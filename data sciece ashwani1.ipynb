{
 "cells": [
  {
   "cell_type": "markdown",
   "id": "6b94a903",
   "metadata": {},
   "source": [
    "# python chr() function"
   ]
  },
  {
   "cell_type": "code",
   "execution_count": 1,
   "id": "8890d4e6",
   "metadata": {},
   "outputs": [
    {
     "name": "stdout",
     "output_type": "stream",
     "text": [
      "\u0017\n"
     ]
    }
   ],
   "source": [
    "a = chr(23)\n",
    "print(a)"
   ]
  },
  {
   "cell_type": "code",
   "execution_count": 2,
   "id": "fc166f86",
   "metadata": {},
   "outputs": [
    {
     "name": "stdout",
     "output_type": "stream",
     "text": [
      "c\n"
     ]
    }
   ],
   "source": [
    "a = chr(99)\n",
    "print(a)"
   ]
  },
  {
   "cell_type": "code",
   "execution_count": 3,
   "id": "fe7947c3",
   "metadata": {},
   "outputs": [
    {
     "name": "stdout",
     "output_type": "stream",
     "text": [
      "N\n"
     ]
    }
   ],
   "source": [
    "b = chr(78)\n",
    "print(b)"
   ]
  },
  {
   "cell_type": "code",
   "execution_count": 6,
   "id": "67ff344a",
   "metadata": {},
   "outputs": [
    {
     "name": "stdout",
     "output_type": "stream",
     "text": [
      "c\n"
     ]
    }
   ],
   "source": [
    "c =chr(99)\n",
    "print(c)"
   ]
  },
  {
   "cell_type": "markdown",
   "id": "6e72e196",
   "metadata": {},
   "source": [
    "# complex function"
   ]
  },
  {
   "cell_type": "code",
   "execution_count": 7,
   "id": "35c720f2",
   "metadata": {},
   "outputs": [
    {
     "name": "stdout",
     "output_type": "stream",
     "text": [
      "(2+6j)\n"
     ]
    }
   ],
   "source": [
    "a = complex(2,6)\n",
    "print(a)"
   ]
  },
  {
   "cell_type": "code",
   "execution_count": 8,
   "id": "9586ffcd",
   "metadata": {},
   "outputs": [
    {
     "name": "stdout",
     "output_type": "stream",
     "text": [
      "(2.3+4.5j)\n"
     ]
    }
   ],
   "source": [
    "a = complex(2.3,4.5)\n",
    "print(a)"
   ]
  },
  {
   "cell_type": "markdown",
   "id": "10e09721",
   "metadata": {},
   "source": [
    "# float function "
   ]
  },
  {
   "cell_type": "code",
   "execution_count": 9,
   "id": "267ad06d",
   "metadata": {},
   "outputs": [
    {
     "name": "stdout",
     "output_type": "stream",
     "text": [
      "2.0\n"
     ]
    }
   ],
   "source": [
    "a = float(2)\n",
    "print(a)"
   ]
  },
  {
   "cell_type": "code",
   "execution_count": 11,
   "id": "861c7f4e",
   "metadata": {},
   "outputs": [
    {
     "name": "stdout",
     "output_type": "stream",
     "text": [
      "3.4\n"
     ]
    }
   ],
   "source": [
    "a = float(3.4)\n",
    "print(a)"
   ]
  },
  {
   "cell_type": "markdown",
   "id": "2bf95ba9",
   "metadata": {},
   "source": [
    "# int() function"
   ]
  },
  {
   "cell_type": "code",
   "execution_count": 12,
   "id": "c76e9c62",
   "metadata": {},
   "outputs": [
    {
     "name": "stdout",
     "output_type": "stream",
     "text": [
      "234\n"
     ]
    }
   ],
   "source": [
    "a = int(234.56)\n",
    "print(a)"
   ]
  },
  {
   "cell_type": "code",
   "execution_count": 14,
   "id": "168ce77c",
   "metadata": {},
   "outputs": [
    {
     "name": "stdout",
     "output_type": "stream",
     "text": [
      "234\n"
     ]
    }
   ],
   "source": [
    "a = int(234)\n",
    "print(a)"
   ]
  },
  {
   "cell_type": "markdown",
   "id": "1ed6061f",
   "metadata": {},
   "source": [
    "# input function"
   ]
  },
  {
   "cell_type": "code",
   "execution_count": 1,
   "id": "94851120",
   "metadata": {},
   "outputs": [
    {
     "name": "stdout",
     "output_type": "stream",
     "text": [
      "what is your nameashwani\n",
      "hello ashwani\n"
     ]
    }
   ],
   "source": [
    " x = input(\"what is your name\")\n",
    "print(\"hello\" ,x)"
   ]
  },
  {
   "cell_type": "code",
   "execution_count": 2,
   "id": "23c6050a",
   "metadata": {},
   "outputs": [
    {
     "name": "stdout",
     "output_type": "stream",
     "text": [
      "enter your age18\n",
      "your age is  18\n"
     ]
    }
   ],
   "source": [
    "y = input(\"enter your age\")\n",
    "print(\"your age is \" ,y)"
   ]
  },
  {
   "cell_type": "code",
   "execution_count": 3,
   "id": "1312a9a0",
   "metadata": {},
   "outputs": [
    {
     "name": "stdout",
     "output_type": "stream",
     "text": [
      "what is your nameashish\n",
      "ashish\n"
     ]
    }
   ],
   "source": [
    "a = input(\"what is your name\")\n",
    "print(a)"
   ]
  },
  {
   "cell_type": "markdown",
   "id": "bb11b724",
   "metadata": {},
   "source": [
    "# "
   ]
  },
  {
   "cell_type": "code",
   "execution_count": 5,
   "id": "205a29d1",
   "metadata": {},
   "outputs": [
    {
     "name": "stdout",
     "output_type": "stream",
     "text": [
      "hello ashwaniashwani\n",
      "ashwani\n"
     ]
    }
   ],
   "source": [
    "a = input(\"hello ashwani\")\n",
    "print(a)"
   ]
  },
  {
   "cell_type": "code",
   "execution_count": null,
   "id": "8078d110",
   "metadata": {},
   "outputs": [],
   "source": []
  },
  {
   "cell_type": "code",
   "execution_count": 4,
   "id": "8234e6c1",
   "metadata": {},
   "outputs": [
    {
     "name": "stdout",
     "output_type": "stream",
     "text": [
      " Volume in drive C is Acer\n",
      " Volume Serial Number is 8C50-7D95\n",
      "\n",
      " Directory of C:\\Users\\91941\n",
      "\n",
      "19-08-2023  19:28    <DIR>          .\n",
      "19-08-2023  19:28    <DIR>          ..\n",
      "02-12-2021  17:50             6,875 -1.14-windows.xml\n",
      "16-08-2023  14:34                86 .bash_history\n",
      "20-08-2023  13:08    <DIR>          .conda\n",
      "14-08-2023  18:52                25 .condarc\n",
      "13-08-2023  17:32    <DIR>          .continuum\n",
      "15-08-2023  09:26    <DIR>          .dotnet\n",
      "14-08-2023  20:16               213 .gitconfig\n",
      "13-08-2023  17:02    <DIR>          .idlerc\n",
      "19-08-2023  19:28    <DIR>          .ipynb_checkpoints\n",
      "14-08-2023  11:50    <DIR>          .ipython\n",
      "16-08-2023  12:50    <DIR>          .jupyter\n",
      "30-06-2023  22:25    <DIR>          .Ld2VirtualBox\n",
      "15-08-2023  09:34    <DIR>          .templateengine\n",
      "15-08-2023  20:54    <DIR>          .vscode\n",
      "28-07-2023  15:09    <DIR>          3D Objects\n",
      "15-08-2023  19:17    <DIR>          btwitsashwani\n",
      "20-06-2021  14:33    <DIR>          Contacts\n",
      "19-08-2023  11:40             6,022 data sciece ashwani1.ipynb\n",
      "19-08-2023  11:44             6,274 data science ashwani2.ipynb\n",
      "17-08-2023  15:10             5,690 data science ashwani3.ipynb\n",
      "19-08-2023  11:26             6,022 data science.ipynb\n",
      "20-08-2023  13:06    <DIR>          Desktop\n",
      "19-08-2023  16:17    <DIR>          Documents\n",
      "20-08-2023  09:04    <DIR>          Downloads\n",
      "23-02-2022  21:52    <DIR>          Dropbox\n",
      "20-06-2021  14:33    <DIR>          Favorites\n",
      "20-06-2021  14:33    <DIR>          Links\n",
      "04-07-2021  15:01    <DIR>          Music\n",
      "29-07-2021  21:59    <DIR>          OneDrive\n",
      "19-08-2023  19:04    <DIR>          Pictures\n",
      "20-06-2021  14:33    <DIR>          Saved Games\n",
      "20-06-2021  14:34    <DIR>          Searches\n",
      "15-08-2023  12:23    <DIR>          source\n",
      "14-08-2023  17:19             3,866 Untitled1.ipynb\n",
      "14-08-2023  17:18                72 Untitled2.ipynb\n",
      "14-08-2023  17:27             6,333 Untitled3.ipynb\n",
      "14-08-2023  18:35             6,590 Untitled4.ipynb\n",
      "16-08-2023  13:07            11,108 Untitled5.ipynb\n",
      "19-08-2023  16:45    <DIR>          Videos\n",
      "              13 File(s)         59,176 bytes\n",
      "              28 Dir(s)  346,072,178,688 bytes free\n"
     ]
    }
   ],
   "source": [
    "!dir"
   ]
  },
  {
   "cell_type": "code",
   "execution_count": null,
   "id": "d9faf805",
   "metadata": {},
   "outputs": [],
   "source": []
  },
  {
   "cell_type": "code",
   "execution_count": null,
   "id": "aa7d8de0",
   "metadata": {},
   "outputs": [],
   "source": []
  },
  {
   "cell_type": "code",
   "execution_count": null,
   "id": "6f24dbaa",
   "metadata": {},
   "outputs": [],
   "source": []
  }
 ],
 "metadata": {
  "kernelspec": {
   "display_name": "Python 3 (ipykernel)",
   "language": "python",
   "name": "python3"
  },
  "language_info": {
   "codemirror_mode": {
    "name": "ipython",
    "version": 3
   },
   "file_extension": ".py",
   "mimetype": "text/x-python",
   "name": "python",
   "nbconvert_exporter": "python",
   "pygments_lexer": "ipython3",
   "version": "3.11.4"
  }
 },
 "nbformat": 4,
 "nbformat_minor": 5
}
