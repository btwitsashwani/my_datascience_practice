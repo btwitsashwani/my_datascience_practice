{
 "cells": [
  {
   "cell_type": "markdown",
   "id": "06f7d75f",
   "metadata": {},
   "source": [
    "# python chr() function"
   ]
  },
  {
   "cell_type": "code",
   "execution_count": 1,
   "id": "773b1b4d",
   "metadata": {},
   "outputs": [
    {
     "name": "stdout",
     "output_type": "stream",
     "text": [
      "\u0017\n"
     ]
    }
   ],
   "source": [
    "a = chr(23)\n",
    "print(a)"
   ]
  },
  {
   "cell_type": "code",
   "execution_count": 2,
   "id": "3e777bbb",
   "metadata": {},
   "outputs": [
    {
     "name": "stdout",
     "output_type": "stream",
     "text": [
      "c\n"
     ]
    }
   ],
   "source": [
    "a = chr(99)\n",
    "print(a)"
   ]
  },
  {
   "cell_type": "code",
   "execution_count": 3,
   "id": "ce8fc42a",
   "metadata": {},
   "outputs": [
    {
     "name": "stdout",
     "output_type": "stream",
     "text": [
      "N\n"
     ]
    }
   ],
   "source": [
    "b = chr(78)\n",
    "print(b)"
   ]
  },
  {
   "cell_type": "code",
   "execution_count": 6,
   "id": "84563fd5",
   "metadata": {},
   "outputs": [
    {
     "name": "stdout",
     "output_type": "stream",
     "text": [
      "c\n"
     ]
    }
   ],
   "source": [
    "c =chr(99)\n",
    "print(c)"
   ]
  },
  {
   "cell_type": "markdown",
   "id": "9ee0f7eb",
   "metadata": {},
   "source": [
    "# complex function"
   ]
  },
  {
   "cell_type": "code",
   "execution_count": 7,
   "id": "df3a18b0",
   "metadata": {},
   "outputs": [
    {
     "name": "stdout",
     "output_type": "stream",
     "text": [
      "(2+6j)\n"
     ]
    }
   ],
   "source": [
    "a = complex(2,6)\n",
    "print(a)"
   ]
  },
  {
   "cell_type": "code",
   "execution_count": 8,
   "id": "f2abcbe5",
   "metadata": {},
   "outputs": [
    {
     "name": "stdout",
     "output_type": "stream",
     "text": [
      "(2.3+4.5j)\n"
     ]
    }
   ],
   "source": [
    "a = complex(2.3,4.5)\n",
    "print(a)"
   ]
  },
  {
   "cell_type": "markdown",
   "id": "0f66ea86",
   "metadata": {},
   "source": [
    "# float function "
   ]
  },
  {
   "cell_type": "code",
   "execution_count": 9,
   "id": "be70481e",
   "metadata": {},
   "outputs": [
    {
     "name": "stdout",
     "output_type": "stream",
     "text": [
      "2.0\n"
     ]
    }
   ],
   "source": [
    "a = float(2)\n",
    "print(a)"
   ]
  },
  {
   "cell_type": "code",
   "execution_count": 11,
   "id": "a439aad2",
   "metadata": {},
   "outputs": [
    {
     "name": "stdout",
     "output_type": "stream",
     "text": [
      "3.4\n"
     ]
    }
   ],
   "source": [
    "a = float(3.4)\n",
    "print(a)"
   ]
  },
  {
   "cell_type": "markdown",
   "id": "66bf1ead",
   "metadata": {},
   "source": [
    "# int() function"
   ]
  },
  {
   "cell_type": "code",
   "execution_count": 12,
   "id": "6672185d",
   "metadata": {},
   "outputs": [
    {
     "name": "stdout",
     "output_type": "stream",
     "text": [
      "234\n"
     ]
    }
   ],
   "source": [
    "a = int(234.56)\n",
    "print(a)"
   ]
  },
  {
   "cell_type": "code",
   "execution_count": 14,
   "id": "158576eb",
   "metadata": {},
   "outputs": [
    {
     "name": "stdout",
     "output_type": "stream",
     "text": [
      "234\n"
     ]
    }
   ],
   "source": [
    "a = int(234)\n",
    "print(a)"
   ]
  },
  {
   "cell_type": "markdown",
   "id": "79568377",
   "metadata": {},
   "source": [
    "# input function"
   ]
  },
  {
   "cell_type": "code",
   "execution_count": 1,
   "id": "fb5578da",
   "metadata": {},
   "outputs": [
    {
     "name": "stdout",
     "output_type": "stream",
     "text": [
      "what is your nameashwani\n",
      "hello ashwani\n"
     ]
    }
   ],
   "source": [
    " x = input(\"what is your name\")\n",
    "print(\"hello\" ,x)"
   ]
  },
  {
   "cell_type": "code",
   "execution_count": 2,
   "id": "1a55283e",
   "metadata": {},
   "outputs": [
    {
     "name": "stdout",
     "output_type": "stream",
     "text": [
      "enter your age18\n",
      "your age is  18\n"
     ]
    }
   ],
   "source": [
    "y = input(\"enter your age\")\n",
    "print(\"your age is \" ,y)"
   ]
  },
  {
   "cell_type": "code",
   "execution_count": 3,
   "id": "c0d8ce70",
   "metadata": {},
   "outputs": [
    {
     "name": "stdout",
     "output_type": "stream",
     "text": [
      "what is your nameashish\n",
      "ashish\n"
     ]
    }
   ],
   "source": [
    "a = input(\"what is your name\")\n",
    "print(a)"
   ]
  },
  {
   "cell_type": "markdown",
   "id": "c0a10c5e",
   "metadata": {},
   "source": [
    "# "
   ]
  },
  {
   "cell_type": "code",
   "execution_count": 5,
   "id": "6a561633",
   "metadata": {},
   "outputs": [
    {
     "name": "stdout",
     "output_type": "stream",
     "text": [
      "hello ashwaniashwani\n",
      "ashwani\n"
     ]
    }
   ],
   "source": [
    "a = input(\"hello ashwani\")\n",
    "print(a)"
   ]
  },
  {
   "cell_type": "code",
   "execution_count": null,
   "id": "a6e8fd6e",
   "metadata": {},
   "outputs": [],
   "source": []
  },
  {
   "cell_type": "code",
   "execution_count": null,
   "id": "6356cd94",
   "metadata": {},
   "outputs": [],
   "source": []
  },
  {
   "cell_type": "code",
   "execution_count": null,
   "id": "8368dbd5",
   "metadata": {},
   "outputs": [],
   "source": []
  },
  {
   "cell_type": "code",
   "execution_count": null,
   "id": "ffca4df5",
   "metadata": {},
   "outputs": [],
   "source": []
  },
  {
   "cell_type": "code",
   "execution_count": null,
   "id": "f1c0f38b",
   "metadata": {},
   "outputs": [],
   "source": []
  }
 ],
 "metadata": {
  "kernelspec": {
   "display_name": "Python 3 (ipykernel)",
   "language": "python",
   "name": "python3"
  },
  "language_info": {
   "codemirror_mode": {
    "name": "ipython",
    "version": 3
   },
   "file_extension": ".py",
   "mimetype": "text/x-python",
   "name": "python",
   "nbconvert_exporter": "python",
   "pygments_lexer": "ipython3",
   "version": "3.11.4"
  }
 },
 "nbformat": 4,
 "nbformat_minor": 5
}
